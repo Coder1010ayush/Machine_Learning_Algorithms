{
 "cells": [
  {
   "cell_type": "code",
   "execution_count": 1,
   "id": "88e58911-b501-43dc-85ec-b426aed15904",
   "metadata": {
    "ExecuteTime": {
     "end_time": "2023-10-29T15:48:38.250794346Z",
     "start_time": "2023-10-29T15:48:38.207234784Z"
    }
   },
   "outputs": [],
   "source": [
    "import numpy as np \n",
    "import matplotlib.pyplot as plt  \n",
    "import seaborn as sns \n",
    "import scipy.stats as stat\n",
    "import pandas as pd"
   ]
  },
  {
   "cell_type": "code",
   "execution_count": 2,
   "id": "1fd43e96-b863-4a8f-828b-af65a5a7bad6",
   "metadata": {
    "ExecuteTime": {
     "end_time": "2023-10-29T15:48:39.247534029Z",
     "start_time": "2023-10-29T15:48:39.237783Z"
    }
   },
   "outputs": [],
   "source": [
    "# Making Linear Regression class from skretch\n",
    "class LinearRegression_local:\n",
    "    \n",
    "    def __init__(self):\n",
    "        self.coeff_ = None\n",
    "        self.intercept_ = None\n",
    "        self.m = 0\n",
    "        self.b = 0\n",
    "        self.learning_rate = 0.1\n",
    "        self.epoch = 300\n",
    "        \n",
    "\n",
    "    def fit_simple_regression(self,x_train,y_train): \n",
    "        numerator = 0\n",
    "        denominator = 0\n",
    "        for i in range(x_train.shape[0]): \n",
    "            numerator += (y_train[i] - y_train.mean())*(x_train[i]-x_train.mean())\n",
    "            denominator += (x_train[i]-x_train.mean())*(x_train[i]-x_train.mean())\n",
    "\n",
    "        self.coeff_ = numerator/denominator\n",
    "        self.intercept_ = y_train.mean()-(self.coeff_*x_train.mean())\n",
    "        return self.coeff_,self.intercept_\n",
    "\n",
    "    def fit_multiple_linear_regression_ndimension(self,x_train,y_train):\n",
    "        x_train = np.insert(x_train,0,1,axis=1)\n",
    "        beta = np.linalg.inv(np.dot(x_train.T,x_train)).dot(x_train.T,y_train)\n",
    "        self.coeff_ = beta[1:]\n",
    "        self.intercept_ = beta[0]\n",
    "\n",
    "    def mean_error(self,y_test,y_hat):\n",
    "        return np.sum((np.abs(y_test-y_hat)))/y_test.shape[0]\n",
    "\n",
    "    def mean_squared_error(self,y_test,y_hat):\n",
    "        return np.sum((np.square(y_test-y_hat)))/y_test.shape[0]\n",
    "\n",
    "    def r2_score(self,y_hat,y_test):\n",
    "        num = np.mean(np.square(y_test - np.mean(y_test)))\n",
    "        den = np.mean(np.square(y_hat-y_test))\n",
    "        return (1-(num/den))\n",
    "\n",
    "    def r2_score_adjusted(self,y_hat,y_test):\n",
    "        num = (np.square(y_test - np.mean(y_test)))/y_test.shape[0]\n",
    "        den = (np.square(y_hat-y_test))/y_test.shape[0]\n",
    "        r2 = (1-(num/den)) \n",
    "        n = y_test.shape[0]\n",
    "        k = y_test.shape[1]\n",
    "        return 1-((1-r2)*(n-1))/(n-1-k)\n",
    "    \n",
    "    def predict(self,x_test):\n",
    "        # a = np.ones(x_test.shape)\n",
    "        # for i in range(a.shape[0]-1):\n",
    "        #     a[i][0] = self.coeff_*x_test[i] + self.intercept_\n",
    "        return self.coeff_*x_test + self.intercept_\n",
    "    "
   ]
  },
  {
   "cell_type": "code",
   "execution_count": 3,
   "id": "c7587e4b-800d-4276-99c1-b24866ce14af",
   "metadata": {
    "ExecuteTime": {
     "end_time": "2023-10-29T15:48:40.734436863Z",
     "start_time": "2023-10-29T15:48:40.709045229Z"
    }
   },
   "outputs": [
    {
     "data": {
      "text/plain": "   cgpa  package\n0  6.89     3.26\n1  5.12     1.98\n2  7.82     3.25\n3  7.42     3.67\n4  6.94     3.57",
      "text/html": "<div>\n<style scoped>\n    .dataframe tbody tr th:only-of-type {\n        vertical-align: middle;\n    }\n\n    .dataframe tbody tr th {\n        vertical-align: top;\n    }\n\n    .dataframe thead th {\n        text-align: right;\n    }\n</style>\n<table border=\"1\" class=\"dataframe\">\n  <thead>\n    <tr style=\"text-align: right;\">\n      <th></th>\n      <th>cgpa</th>\n      <th>package</th>\n    </tr>\n  </thead>\n  <tbody>\n    <tr>\n      <th>0</th>\n      <td>6.89</td>\n      <td>3.26</td>\n    </tr>\n    <tr>\n      <th>1</th>\n      <td>5.12</td>\n      <td>1.98</td>\n    </tr>\n    <tr>\n      <th>2</th>\n      <td>7.82</td>\n      <td>3.25</td>\n    </tr>\n    <tr>\n      <th>3</th>\n      <td>7.42</td>\n      <td>3.67</td>\n    </tr>\n    <tr>\n      <th>4</th>\n      <td>6.94</td>\n      <td>3.57</td>\n    </tr>\n  </tbody>\n</table>\n</div>"
     },
     "execution_count": 3,
     "metadata": {},
     "output_type": "execute_result"
    }
   ],
   "source": [
    "df = pd.read_csv('datasets/placement.csv')\n",
    "df.head(5)\n"
   ]
  },
  {
   "cell_type": "code",
   "execution_count": 4,
   "id": "83d70340-d794-4bce-90c1-57679bc78468",
   "metadata": {
    "ExecuteTime": {
     "end_time": "2023-10-29T15:48:42.278998725Z",
     "start_time": "2023-10-29T15:48:42.178389682Z"
    }
   },
   "outputs": [
    {
     "data": {
      "text/plain": "0.7730984312051673"
     },
     "execution_count": 4,
     "metadata": {},
     "output_type": "execute_result"
    }
   ],
   "source": [
    "from sklearn.model_selection import train_test_split\n",
    "from sklearn.linear_model import LinearRegression\n",
    "from sklearn.metrics import r2_score\n",
    "x_train, x_test, y_train, y_test = train_test_split(df[\"cgpa\"], df[\"package\"], test_size=0.2, random_state=42)\n",
    "x_train = pd.DataFrame(x_train)\n",
    "x_test = pd.DataFrame(x_test)\n",
    "y_test = pd.DataFrame(y_test)\n",
    "y_train = pd.DataFrame(y_train)\n",
    "lr = LinearRegression()\n",
    "lr.fit(x_train,y_train)\n",
    "y_pred = lr.predict(x_test)\n",
    "r2_score(y_test,y_pred)"
   ]
  },
  {
   "cell_type": "code",
   "execution_count": 5,
   "id": "26f5a4b3-c7ff-41c3-9f93-a3f1e6f33df6",
   "metadata": {
    "scrolled": true,
    "ExecuteTime": {
     "end_time": "2023-10-29T15:48:43.200961826Z",
     "start_time": "2023-10-29T15:48:43.170041490Z"
    }
   },
   "outputs": [
    {
     "data": {
      "text/plain": "0.7730984312051673"
     },
     "execution_count": 5,
     "metadata": {},
     "output_type": "execute_result"
    }
   ],
   "source": [
    "ll = LinearRegression_local()\n",
    "ll.fit_simple_regression(x_train.values,y_train.values)\n",
    "y_prediction = ll.predict(x_test.values)\n",
    "r2_score(y_test,y_prediction)"
   ]
  },
  {
   "cell_type": "code",
   "execution_count": 6,
   "id": "7a8472de-6596-4c12-9148-219bb8c99f0d",
   "metadata": {
    "ExecuteTime": {
     "end_time": "2023-10-29T15:48:44.262166513Z",
     "start_time": "2023-10-29T15:48:44.023311566Z"
    }
   },
   "outputs": [
    {
     "data": {
      "text/plain": "[<matplotlib.lines.Line2D at 0x7ff3d7cba6d0>]"
     },
     "execution_count": 6,
     "metadata": {},
     "output_type": "execute_result"
    },
    {
     "data": {
      "text/plain": "<Figure size 640x480 with 1 Axes>",
      "image/png": "[encoded data removed]"
     },
     "metadata": {},
     "output_type": "display_data"
    }
   ],
   "source": [
    "sns.scatterplot(data= df,x='cgpa',y='package')\n",
    "plt.plot(x_test,ll.predict(x_test.values),color = 'red')"
   ]
  }
 ],
 "metadata": {
  "kernelspec": {
   "display_name": "Python 3 (ipykernel)",
   "language": "python",
   "name": "python3"
  },
  "language_info": {
   "codemirror_mode": {
    "name": "ipython",
    "version": 3
   },
   "file_extension": ".py",
   "mimetype": "text/x-python",
   "name": "python",
   "nbconvert_exporter": "python",
   "pygments_lexer": "ipython3",
   "version": "3.8.10"
  },
  "widgets": {
   "application/vnd.jupyter.widget-state+json": {
    "state": {},
    "version_major": 2,
    "version_minor": 0
   }
  }
 },
 "nbformat": 4,
 "nbformat_minor": 5
}
